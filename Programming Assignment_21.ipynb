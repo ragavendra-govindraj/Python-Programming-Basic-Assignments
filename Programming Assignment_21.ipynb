{
 "cells": [
  {
   "cell_type": "markdown",
   "metadata": {},
   "source": [
    "1) Write a function that takes a list and a number as arguments. Add the number to the end of\n",
    "the list, then remove the first element of the list. The function should then return the updated\n",
    "list."
   ]
  },
  {
   "cell_type": "markdown",
   "metadata": {},
   "source": [
    "Ans 1)"
   ]
  },
  {
   "cell_type": "code",
   "execution_count": 5,
   "metadata": {},
   "outputs": [
    {
     "name": "stdout",
     "output_type": "stream",
     "text": [
      "Enter the length of the list you want: 5\n",
      "1\n",
      "2\n",
      "3\n",
      "4\n",
      "5\n",
      "The list you have given  is:  [1, 2, 3, 4, 5]\n",
      "Enter the number you want to append to the list: 6\n",
      "The number you want appended is:  6\n",
      "The appended result is:  [2, 3, 4, 5, 6]\n"
     ]
    }
   ],
   "source": [
    "\n",
    "def updater(lst,num):\n",
    "    if len(lst) > 0:\n",
    "        lst.append(num)\n",
    "        result = lst[1: ]\n",
    "        return result\n",
    "    else: \n",
    "        print(\"No input has been given\")\n",
    "\n",
    "n = int(input(\"Enter the length of the list you want: \"))\n",
    "listo = []\n",
    "for i in  range(0,n):\n",
    "    ele = int(input())\n",
    "    listo.append(ele)\n",
    "    \n",
    "print(\"The list you have given  is: \", listo)\n",
    "\n",
    "number = int(input(\"Enter the number you want to append to the list: \"))\n",
    "\n",
    "print(\"The number you want appended is: \", number)\n",
    "\n",
    "print(\"The appended result is: \", updater(listo,number))\n",
    "\n",
    "\n",
    "    "
   ]
  },
  {
   "cell_type": "code",
   "execution_count": null,
   "metadata": {},
   "outputs": [],
   "source": [
    "2) Create the function that takes a list of dictionaries and returns the sum of people's budgets."
   ]
  },
  {
   "cell_type": "markdown",
   "metadata": {},
   "source": [
    "Ans 2)"
   ]
  },
  {
   "cell_type": "code",
   "execution_count": 13,
   "metadata": {},
   "outputs": [
    {
     "name": "stdout",
     "output_type": "stream",
     "text": [
      "Enter the size of dictionary: 3\n"
     ]
    }
   ],
   "source": [
    "length = int(input(\"Enter the size of dictionary: \"))"
   ]
  },
  {
   "cell_type": "code",
   "execution_count": 15,
   "metadata": {},
   "outputs": [
    {
     "name": "stdout",
     "output_type": "stream",
     "text": [
      "a 1\n",
      "b 2\n",
      "c 3\n",
      "The first dictionary is:  {'a': '1', 'b': '2', 'c': '3'}\n",
      "a 1\n",
      "b 2\n",
      "c 3\n",
      "The second dictionary is:  {'a': '1', 'b': '2', 'c': '3'}\n",
      "a 1 \n",
      "b 2\n",
      "c 3\n",
      "The third dictionary is:  {'a': '1', 'b': '2', 'c': '3'}\n"
     ]
    }
   ],
   "source": [
    "d1=dict(input().split() for x in range(length))\n",
    "print(\"The first dictionary is: \", d1)\n",
    "\n",
    "d2=dict(input().split() for x in range(length))\n",
    "print(\"The second dictionary is: \", d2)\n",
    "d3=dict(input().split() for x in range(length))\n",
    "print(\"The third dictionary is: \", d3)"
   ]
  },
  {
   "cell_type": "code",
   "execution_count": 31,
   "metadata": {},
   "outputs": [],
   "source": [
    "listo=[d1,d2,d3]\n"
   ]
  },
  {
   "cell_type": "code",
   "execution_count": 38,
   "metadata": {},
   "outputs": [
    {
     "name": "stdout",
     "output_type": "stream",
     "text": [
      "name john\n",
      "age 21\n",
      "Budget 33\n",
      "The first dictionary is:  {'name': 'john', 'age': '21', 'Budget': '33'} \n",
      " Enter secod prson\n",
      "Name jon\n",
      "Age 44\n",
      "Budget 23000\n",
      "The second dictionary is:  {'Name': 'jon', 'Age': '44', 'Budget': '23000'} \n",
      " Enter third person\n",
      "Name Hector\n",
      "Age 23\n",
      "Budget 33000\n",
      "The third dictionary is:  {'Name': 'Hector', 'Age': '23', 'Budget': '33000'}\n",
      "The combined data is:  [{'name': 'john', 'age': '21', 'Budget': '33'}, {'Name': 'jon', 'Age': '44', 'Budget': '23000'}, {'Name': 'Hector', 'Age': '23', 'Budget': '33000'}]\n"
     ]
    },
    {
     "ename": "AttributeError",
     "evalue": "'dict' object has no attribute 'int'",
     "output_type": "error",
     "traceback": [
      "\u001b[1;31m---------------------------------------------------------------------------\u001b[0m",
      "\u001b[1;31mAttributeError\u001b[0m                            Traceback (most recent call last)",
      "\u001b[1;32m<ipython-input-38-c26dda857077>\u001b[0m in \u001b[0;36m<module>\u001b[1;34m()\u001b[0m\n\u001b[0;32m     20\u001b[0m \u001b[0mprint\u001b[0m\u001b[1;33m(\u001b[0m\u001b[1;34m\"The combined data is: \"\u001b[0m\u001b[1;33m,\u001b[0m \u001b[0mlisto\u001b[0m\u001b[1;33m)\u001b[0m\u001b[1;33m\u001b[0m\u001b[0m\n\u001b[0;32m     21\u001b[0m \u001b[1;33m\u001b[0m\u001b[0m\n\u001b[1;32m---> 22\u001b[1;33m \u001b[0mprint\u001b[0m\u001b[1;33m(\u001b[0m\u001b[1;34m\"The sum of budgets is: \"\u001b[0m\u001b[1;33m,\u001b[0m \u001b[0mgetbudgets\u001b[0m\u001b[1;33m(\u001b[0m\u001b[0mlisto\u001b[0m\u001b[1;33m)\u001b[0m\u001b[1;33m)\u001b[0m\u001b[1;33m\u001b[0m\u001b[0m\n\u001b[0m\u001b[0;32m     23\u001b[0m \u001b[1;33m\u001b[0m\u001b[0m\n",
      "\u001b[1;32m<ipython-input-38-c26dda857077>\u001b[0m in \u001b[0;36mgetbudgets\u001b[1;34m(listofbudgets)\u001b[0m\n\u001b[0;32m      2\u001b[0m     \u001b[0msum\u001b[0m \u001b[1;33m=\u001b[0m \u001b[1;36m0\u001b[0m\u001b[1;33m\u001b[0m\u001b[0m\n\u001b[0;32m      3\u001b[0m     \u001b[1;32mfor\u001b[0m \u001b[0mdc\u001b[0m \u001b[1;32min\u001b[0m \u001b[0mlistofbudgets\u001b[0m\u001b[1;33m:\u001b[0m\u001b[1;33m\u001b[0m\u001b[0m\n\u001b[1;32m----> 4\u001b[1;33m         \u001b[1;32mfor\u001b[0m \u001b[0mk\u001b[0m\u001b[1;33m,\u001b[0m\u001b[0mv\u001b[0m \u001b[1;32min\u001b[0m \u001b[0mdc\u001b[0m\u001b[1;33m.\u001b[0m\u001b[0mint\u001b[0m\u001b[1;33m(\u001b[0m\u001b[0mitems\u001b[0m\u001b[1;33m(\u001b[0m\u001b[1;33m)\u001b[0m\u001b[1;33m)\u001b[0m\u001b[1;33m:\u001b[0m\u001b[1;33m\u001b[0m\u001b[0m\n\u001b[0m\u001b[0;32m      5\u001b[0m             \u001b[1;32mif\u001b[0m \u001b[0mk\u001b[0m \u001b[1;33m==\u001b[0m \u001b[1;34m\"Budget\"\u001b[0m\u001b[1;33m:\u001b[0m\u001b[1;33m\u001b[0m\u001b[0m\n\u001b[0;32m      6\u001b[0m                 \u001b[0msum\u001b[0m \u001b[1;33m=\u001b[0m \u001b[0msum\u001b[0m \u001b[1;33m+\u001b[0m  \u001b[0mv\u001b[0m\u001b[1;33m\u001b[0m\u001b[0m\n",
      "\u001b[1;31mAttributeError\u001b[0m: 'dict' object has no attribute 'int'"
     ]
    }
   ],
   "source": [
    "def getbudgets(listofbudgets):\n",
    "    sum = 0\n",
    "    for dc in listofbudgets:\n",
    "        for k,v in dc.int(items()):\n",
    "            if k == \"Budget\":\n",
    "                sum = sum +  v\n",
    "        return int(sum)\n",
    "    \n",
    "d1=dict(input().split() for x in range(length))\n",
    "print(\"The first dictionary is: \", d1,\"\\n Enter secod prson\")\n",
    "\n",
    "d2=dict(input().split() for x in range(length))\n",
    "print(\"The second dictionary is: \", d2, \"\\n Enter third person\")\n",
    "\n",
    "d3=dict(input().split() for x in range(length))\n",
    "print(\"The third dictionary is: \", d3)\n",
    "\n",
    "\n",
    "listo=[d1,d2,d3]\n",
    "print(\"The combined data is: \", listo)\n",
    "\n",
    "\n",
    "\n",
    "print(\"The sum of budgets is: \", getbudgets(listo))\n",
    "        "
   ]
  },
  {
   "cell_type": "code",
   "execution_count": 39,
   "metadata": {},
   "outputs": [
    {
     "data": {
      "text/plain": [
       "65700"
      ]
     },
     "execution_count": 39,
     "metadata": {},
     "output_type": "execute_result"
    }
   ],
   "source": [
    "def get_budgets(listDict):\n",
    "    sum = 0\n",
    "    for dc in listDict:\n",
    "        for k,v in dc.items():\n",
    "            if k == 'budget':\n",
    "                sum = sum + v\n",
    "    return sum\n",
    "\n",
    "get_budgets([\n",
    "{ 'name': 'John', 'age': 21, 'budget': 23000 },\n",
    "{ 'name': 'Steve', 'age': 32, 'budget': 40000 },\n",
    "{ 'name': 'Martin', 'age': 16, 'budget': 2700 }\n",
    "])"
   ]
  },
  {
   "cell_type": "markdown",
   "metadata": {},
   "source": [
    "3) Create a function that takes a string and returns a string with its letters in alphabetical order."
   ]
  },
  {
   "cell_type": "markdown",
   "metadata": {},
   "source": [
    "Ans 3)"
   ]
  },
  {
   "cell_type": "code",
   "execution_count": 47,
   "metadata": {},
   "outputs": [
    {
     "name": "stdout",
     "output_type": "stream",
     "text": [
      "Enter the string you want to sort: hello\n",
      "The sorted string is:  ehllo\n"
     ]
    }
   ],
   "source": [
    "def alphabetic(str):\n",
    "    res = ''.join(sorted(str))\n",
    "    return res\n",
    "\n",
    "string = input(\"Enter the string you want to sort: \")\n",
    "print(\"The sorted string is: \",alphabetic(string))"
   ]
  },
  {
   "cell_type": "markdown",
   "metadata": {},
   "source": [
    "4) Suppose that you invest $10,000 for 10 years at an interest rate of 6% compounded monthly.\n",
    "What will be the value of your investment at the end of the 10 year period?\n",
    "Create a function that accepts the principal p, the term in years t, the interest rate r, and the\n",
    "number of compounding periods per year n. The function returns the value at the end of term\n",
    "rounded to the nearest cent.\n",
    "For the example above:\n",
    "compound_interest(10000, 10, 0.06, 12) ➞ 18193.97\n",
    "Note that the interest rate is given as a decimal and n=12 because with monthly compounding\n",
    "there are 12 periods per year. Compounding can also be done annually, quarterly, weekly, or\n",
    "daily."
   ]
  },
  {
   "cell_type": "markdown",
   "metadata": {},
   "source": [
    "Ans 4)"
   ]
  },
  {
   "cell_type": "code",
   "execution_count": 58,
   "metadata": {},
   "outputs": [
    {
     "name": "stdout",
     "output_type": "stream",
     "text": [
      "Enter the present value of the money: 1000\n",
      "Enter the number of years: 1\n",
      "Enter the rate of interest: 10\n",
      "Enter the number of compounding periods per year: 12\n",
      "The future value of the investment is:  3138.43\n"
     ]
    }
   ],
   "source": [
    "def futureval(p,t,r,n):\n",
    "    \n",
    "    value = float(p * (1 + (r/100))**(n*t))\n",
    "    result = round(value,2)\n",
    "    return result\n",
    "\n",
    "pv = int(input(\"Enter the present value of the money: \"))\n",
    "time = int(input(\"Enter the number of years: \"))\n",
    "rate = int(input(\"Enter the rate of interest: \"))\n",
    "number= int(input(\"Enter the number of compounding periods per year: \"))\n",
    "\n",
    "print(\"The future value of the investment is: \", futureval(pv, time, rate, number))\n"
   ]
  },
  {
   "cell_type": "markdown",
   "metadata": {},
   "source": [
    "5) Write a function that takes a list of elements and returns only the integers."
   ]
  },
  {
   "cell_type": "markdown",
   "metadata": {},
   "source": [
    "Ans 5) "
   ]
  },
  {
   "cell_type": "code",
   "execution_count": 59,
   "metadata": {},
   "outputs": [],
   "source": [
    "def return_only_integer(lst):\n",
    "    int_list = []\n",
    "    for i in lst:\n",
    "        if type(i) == int:\n",
    "            int_list.append(i)\n",
    "    return int_list\n",
    "\n"
   ]
  },
  {
   "cell_type": "code",
   "execution_count": 61,
   "metadata": {},
   "outputs": [
    {
     "data": {
      "text/plain": [
       "[9, 2, 1, 3]"
      ]
     },
     "execution_count": 61,
     "metadata": {},
     "output_type": "execute_result"
    }
   ],
   "source": [
    "return_only_integer([9, 2, \"space\", \"car\", 1,3, \"lion\"])"
   ]
  },
  {
   "cell_type": "code",
   "execution_count": null,
   "metadata": {},
   "outputs": [],
   "source": []
  }
 ],
 "metadata": {
  "kernelspec": {
   "display_name": "Python 3",
   "language": "python",
   "name": "python3"
  },
  "language_info": {
   "codemirror_mode": {
    "name": "ipython",
    "version": 3
   },
   "file_extension": ".py",
   "mimetype": "text/x-python",
   "name": "python",
   "nbconvert_exporter": "python",
   "pygments_lexer": "ipython3",
   "version": "3.6.5"
  }
 },
 "nbformat": 4,
 "nbformat_minor": 2
}
