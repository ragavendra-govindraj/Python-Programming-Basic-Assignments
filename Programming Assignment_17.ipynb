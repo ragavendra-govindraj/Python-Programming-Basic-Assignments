{
 "cells": [
  {
   "cell_type": "markdown",
   "metadata": {},
   "source": [
    "1) Create a function that takes three arguments a, b, c and returns the sum of the\n",
    "numbers that are evenly divided by c from the range a, b inclusive."
   ]
  },
  {
   "cell_type": "markdown",
   "metadata": {},
   "source": [
    "Ans 1)"
   ]
  },
  {
   "cell_type": "code",
   "execution_count": 1,
   "metadata": {},
   "outputs": [
    {
     "name": "stdout",
     "output_type": "stream",
     "text": [
      "Enter lower limit: 1\n",
      "Enter  upper limit: 10\n",
      "Enter divisor: 2\n",
      "Sum of numbers evenly divided by divisor for the given range is:  30\n"
     ]
    }
   ],
   "source": [
    "def argu(a,b,c):\n",
    "    sum = 0\n",
    "    for i in range(a, b+1):\n",
    "        if i%c ==0:\n",
    "            sum = sum + i\n",
    "            \n",
    "    return sum\n",
    "\n",
    "lower=int(input(\"Enter lower limit: \"))\n",
    "upper =int(input(\"Enter  upper limit: \"))\n",
    "divisor = int(input(\"Enter divisor: \"))\n",
    "\n",
    "print(\"Sum of numbers evenly divided by divisor for the given range is: \", argu(lower,upper,divisor))\n",
    "    "
   ]
  },
  {
   "cell_type": "markdown",
   "metadata": {},
   "source": [
    "2) Create a function that returns True if a given inequality expression is correct and\n",
    "False otherwise.\n",
    "Examples\n",
    "correct_signs(&quot;3 &lt; 7 &lt; 11&quot;) ➞ True\n",
    "correct_signs(&quot;13 &gt; 44 &gt; 33 &gt; 1&quot;) ➞ False\n",
    "correct_signs(&quot;1 &lt; 2 &lt; 6 &lt; 9 &gt; 3&quot;) ➞ True"
   ]
  },
  {
   "cell_type": "markdown",
   "metadata": {},
   "source": [
    "Ans 2) "
   ]
  },
  {
   "cell_type": "code",
   "execution_count": 2,
   "metadata": {},
   "outputs": [
    {
     "name": "stdout",
     "output_type": "stream",
     "text": [
      "Enter the expression: 4<5\n",
      "The expression given by you evaluated to be:  True\n"
     ]
    }
   ],
   "source": [
    "def takeexp(exp):\n",
    "    return eval(exp)\n",
    "\n",
    "typeexp = input(\"Enter the expression: \")\n",
    "print(\"The expression given by you evaluated to be: \", takeexp(typeexp))\n",
    "  "
   ]
  },
  {
   "cell_type": "markdown",
   "metadata": {},
   "source": [
    "3) Create a function that replaces all the vowels in a string with a specified character."
   ]
  },
  {
   "cell_type": "markdown",
   "metadata": {},
   "source": [
    "Ans 3)"
   ]
  },
  {
   "cell_type": "code",
   "execution_count": 3,
   "metadata": {},
   "outputs": [
    {
     "name": "stdout",
     "output_type": "stream",
     "text": [
      "Enter a string: aeioucheck\n",
      "Enter what you want to replace vowels with: $\n",
      "aeioucheck  after replacement of vowels with  $ is:  $$$$$ch$ck\n"
     ]
    }
   ],
   "source": [
    "def getstring(input,c):\n",
    "    vowels = \"AEIOUaeiou\"\n",
    "    for i in vowels:\n",
    "        input = input.replace(i, c)\n",
    "        \n",
    "    return input\n",
    "\n",
    "string = input(\"Enter a string: \")\n",
    "rep = input(\"Enter what you want to replace vowels with: \")\n",
    "\n",
    "print(string, \" after replacement of vowels with \",rep, \"is: \", getstring(string,rep))"
   ]
  },
  {
   "cell_type": "markdown",
   "metadata": {},
   "source": [
    "4) Write a function that calculates the factorial of a number recursively."
   ]
  },
  {
   "cell_type": "markdown",
   "metadata": {},
   "source": [
    "Ans 4) "
   ]
  },
  {
   "cell_type": "code",
   "execution_count": 4,
   "metadata": {},
   "outputs": [
    {
     "name": "stdout",
     "output_type": "stream",
     "text": [
      "Enter the number you want factorial for: 4\n",
      "The factorial of  4 is:  24\n"
     ]
    }
   ],
   "source": [
    "def factorial(n):\n",
    "    fac = 1\n",
    "    if(n == 0 or n == 1):\n",
    "        fac = 1\n",
    "    elif(n>= 1):\n",
    "        for i in range(2,n+1):\n",
    "            \n",
    "            fac = fac * i\n",
    "        return fac\n",
    "    else: \n",
    "        print(\"Enter a valid number: \")\n",
    "        \n",
    "number = int(input(\"Enter the number you want factorial for: \"))\n",
    "print(\"The factorial of \", number, \"is: \", factorial(number))\n",
    "\n",
    "\n",
    "    "
   ]
  },
  {
   "cell_type": "markdown",
   "metadata": {},
   "source": [
    "5)Hamming distance is the number of characters that differ between two strings. Create a function that computes the hamming distance between two strings."
   ]
  },
  {
   "cell_type": "markdown",
   "metadata": {},
   "source": [
    "Ans 5)"
   ]
  },
  {
   "cell_type": "code",
   "execution_count": 9,
   "metadata": {},
   "outputs": [
    {
     "name": "stdout",
     "output_type": "stream",
     "text": [
      "Enter string 1: jfksj\n",
      "Enter string 2: ruwow\n",
      "The hamming distance between  the two strings is:  5\n"
     ]
    }
   ],
   "source": [
    "def hamstring(str1,str2):\n",
    "    i = 0\n",
    "    count = 0\n",
    "    while(i<len(str1)):\n",
    "        if(str1[i] != str2[i]):\n",
    "            count = count+1\n",
    "        i = i+1\n",
    "            \n",
    "    return count\n",
    "\n",
    "s1 = input(\"Enter string 1: \")\n",
    "s2 = input(\"Enter string 2: \")\n",
    "\n",
    "print(\"The hamming distance between  the two strings is: \", hamstring(s1,s2))\n"
   ]
  },
  {
   "cell_type": "code",
   "execution_count": null,
   "metadata": {},
   "outputs": [],
   "source": []
  }
 ],
 "metadata": {
  "kernelspec": {
   "display_name": "Python 3",
   "language": "python",
   "name": "python3"
  },
  "language_info": {
   "codemirror_mode": {
    "name": "ipython",
    "version": 3
   },
   "file_extension": ".py",
   "mimetype": "text/x-python",
   "name": "python",
   "nbconvert_exporter": "python",
   "pygments_lexer": "ipython3",
   "version": "3.6.5"
  }
 },
 "nbformat": 4,
 "nbformat_minor": 2
}
