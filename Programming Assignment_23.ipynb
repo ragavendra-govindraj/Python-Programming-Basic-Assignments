{
 "cells": [
  {
   "cell_type": "markdown",
   "metadata": {},
   "source": [
    "1) Create a function that takes a number as an argument and returns True or False depending\n",
    "on whether the number is symmetrical or not. A number is symmetrical when it is the same as\n",
    "its reverse."
   ]
  },
  {
   "cell_type": "markdown",
   "metadata": {},
   "source": [
    "Ans 1)"
   ]
  },
  {
   "cell_type": "code",
   "execution_count": 23,
   "metadata": {},
   "outputs": [
    {
     "name": "stdout",
     "output_type": "stream",
     "text": [
      "Enter the number: 14567\n",
      "The symmetry of the number is:  False\n"
     ]
    }
   ],
   "source": [
    "def symmetrical(num):\n",
    "    if str(num) == str(num[::-1]):\n",
    "       flag = True\n",
    "    \n",
    "    elif str(num) != str(num[::-1]):\n",
    "        \n",
    "        flag = False\n",
    "    \n",
    "       \n",
    "    return flag\n",
    "    \n",
    "        \n",
    "          \n",
    "number = input(\"Enter the number: \")\n",
    "number1 = str(number)\n",
    "print(\"The symmetry of the number is: \", symmetrical(number1))"
   ]
  },
  {
   "cell_type": "markdown",
   "metadata": {},
   "source": [
    "2) Given a string of numbers separated by a comma and space, return the product of the\n",
    "numbers."
   ]
  },
  {
   "cell_type": "markdown",
   "metadata": {},
   "source": [
    "Ans 2) "
   ]
  },
  {
   "cell_type": "code",
   "execution_count": 24,
   "metadata": {},
   "outputs": [
    {
     "name": "stdout",
     "output_type": "stream",
     "text": [
      "Enter a string of numbers seperated by commas and spaces1,2, 4,4,7, 9\n",
      "The product of numbers you have entered is:  2016\n"
     ]
    }
   ],
   "source": [
    "string = input(\"Enter a string of numbers seperated by commas and spaces\")\n",
    "\n",
    "def multiplynos(s):\n",
    "    s = s.replace(\" \", \"\")\n",
    "    s = s.split(\",\")\n",
    "    \n",
    "    sum = 1\n",
    "    for i in s:\n",
    "        sum = sum * int(i)\n",
    "    return sum\n",
    "\n",
    "print(\"The product of numbers you have entered is: \", multiplynos(string))\n",
    "        "
   ]
  },
  {
   "cell_type": "markdown",
   "metadata": {},
   "source": [
    "3) Create a function that squares every digit of a number."
   ]
  },
  {
   "cell_type": "markdown",
   "metadata": {},
   "source": [
    "Ans 3)"
   ]
  },
  {
   "cell_type": "code",
   "execution_count": 30,
   "metadata": {},
   "outputs": [
    {
     "name": "stdout",
     "output_type": "stream",
     "text": [
      "Enter the number: 121\n",
      "The square of digits is:  141\n"
     ]
    }
   ],
   "source": [
    "def squaredigits(num):\n",
    "    for i in str(num):\n",
    "        \n",
    "        z = ''.join(str(int(i)**2) for i in str(num))\n",
    "    return z\n",
    "number = int(input(\"Enter the number: \"))\n",
    "print(\"The square of digits is: \", squaredigits(number))                "
   ]
  },
  {
   "cell_type": "markdown",
   "metadata": {},
   "source": [
    "4) Create a function that sorts a list and removes all duplicate items from it."
   ]
  },
  {
   "cell_type": "markdown",
   "metadata": {},
   "source": [
    "Ans 4)"
   ]
  },
  {
   "cell_type": "code",
   "execution_count": 49,
   "metadata": {},
   "outputs": [
    {
     "name": "stdout",
     "output_type": "stream",
     "text": [
      "Enter the length of list: 5\n",
      "1\n",
      "2\n",
      "2\n",
      "5\n",
      "5\n",
      "The list you have entered is:  [1, 2, 2, 5, 5]\n",
      "{1, 2, 5}\n"
     ]
    }
   ],
   "source": [
    "n = int(input(\"Enter the length of list: \"))\n",
    "\n",
    "listo = []\n",
    "for i in (range(n)):\n",
    "    ele = int(input())\n",
    "    listo.append(ele) \n",
    "\n",
    "print(\"The list you have entered is: \", listo)\n",
    "\n",
    "def duplicateremove(l):\n",
    "    \n",
    "    l.sort()\n",
    "    l =set(l)\n",
    "    \n",
    "    return l\n",
    "    \n",
    "print(duplicateremove(listo))\n"
   ]
  },
  {
   "cell_type": "markdown",
   "metadata": {},
   "source": [
    "5) Create a function that returns the mean of all digits."
   ]
  },
  {
   "cell_type": "markdown",
   "metadata": {},
   "source": [
    "Ans 5)"
   ]
  },
  {
   "cell_type": "code",
   "execution_count": 51,
   "metadata": {},
   "outputs": [
    {
     "name": "stdout",
     "output_type": "stream",
     "text": [
      "Enter the length of list: 5\n",
      "1\n",
      "2\n",
      "3\n",
      "4\n",
      "5\n",
      "The list you have entered is:  [1, 2, 3, 4, 5]\n",
      "The mean of the numbers you have entered is:  3\n"
     ]
    }
   ],
   "source": [
    "import statistics\n",
    "\n",
    "def findmean(l):\n",
    "    mean =  statistics.mean(l)\n",
    "    return mean\n",
    "\n",
    "n = int(input(\"Enter the length of list: \"))\n",
    "\n",
    "listo = []\n",
    "for i in (range(n)):\n",
    "    ele = int(input())\n",
    "    listo.append(ele) \n",
    "\n",
    "print(\"The list you have entered is: \", listo)\n",
    "\n",
    "print(\"The mean of the numbers you have entered is: \", findmean(listo))\n"
   ]
  },
  {
   "cell_type": "code",
   "execution_count": null,
   "metadata": {},
   "outputs": [],
   "source": []
  }
 ],
 "metadata": {
  "kernelspec": {
   "display_name": "Python 3",
   "language": "python",
   "name": "python3"
  },
  "language_info": {
   "codemirror_mode": {
    "name": "ipython",
    "version": 3
   },
   "file_extension": ".py",
   "mimetype": "text/x-python",
   "name": "python",
   "nbconvert_exporter": "python",
   "pygments_lexer": "ipython3",
   "version": "3.6.5"
  }
 },
 "nbformat": 4,
 "nbformat_minor": 2
}
