{
 "cells": [
  {
   "cell_type": "markdown",
   "metadata": {},
   "source": [
    "1) Please write a program using generator to print the numbers which can be divisible by 5 and\n",
    "7 between 0 and n in comma separated form while n is input by console. Example:\n",
    "If the following n is given as input to the program:\n",
    "100\n",
    "Then, the output of the program should be:\n",
    "0,35,70"
   ]
  },
  {
   "cell_type": "markdown",
   "metadata": {},
   "source": [
    "Ans 1)"
   ]
  },
  {
   "cell_type": "code",
   "execution_count": 5,
   "metadata": {},
   "outputs": [
    {
     "name": "stdout",
     "output_type": "stream",
     "text": [
      "Enter the upper limit: 100\n",
      "35 70 "
     ]
    }
   ],
   "source": [
    "def numgen(n):\n",
    "    for j in range(1, n+1):\n",
    "        if j%5==0 and j%7==0:\n",
    "            yield j\n",
    "            \n",
    "if __name__ == \"__main__\":\n",
    "    n = int(input(\"Enter the upper limit: \"))\n",
    "    for j in numgen(n):\n",
    "            print(j, end = \" \")\n",
    "            \n"
   ]
  },
  {
   "cell_type": "markdown",
   "metadata": {},
   "source": [
    "2) Please write a program using generator to print the even numbers between 0 and n in comma\n",
    "separated form while n is input by console.\n",
    "Example:\n",
    "If the following n is given as input to the program:\n",
    "10\n",
    "Then, the output of the program should be:\n",
    "0,2,4,6,8,10"
   ]
  },
  {
   "cell_type": "markdown",
   "metadata": {},
   "source": [
    "Ans 2)\n"
   ]
  },
  {
   "cell_type": "code",
   "execution_count": 10,
   "metadata": {},
   "outputs": [
    {
     "name": "stdout",
     "output_type": "stream",
     "text": [
      "Enter the upper limit: 10\n",
      "2 , 4 , 6 , 8 , 10 , "
     ]
    }
   ],
   "source": [
    "def numgen(n):\n",
    "    for j in range(1, n+1):\n",
    "        if j%2 == 0:\n",
    "            \n",
    "            yield j\n",
    "            \n",
    "if __name__ == \"__main__\":\n",
    "    n = int(input(\"Enter the upper limit: \"))\n",
    "    for j in numgen(n):\n",
    "                     \n",
    "            print(j, \",\", end = \" \")\n",
    "            "
   ]
  },
  {
   "cell_type": "markdown",
   "metadata": {},
   "source": [
    "3) The Fibonacci Sequence is computed based on the following formula:\n",
    "f(n)=0 if n=0\n",
    "f(n)=1 if n=1\n",
    "f(n)=f(n-1)+f(n-2) if n&gt;1\n",
    "Please write a program using list comprehension to print the Fibonacci Sequence in comma\n",
    "separated form with a given n input by console."
   ]
  },
  {
   "cell_type": "markdown",
   "metadata": {},
   "source": [
    "Ans 3)"
   ]
  },
  {
   "cell_type": "code",
   "execution_count": 46,
   "metadata": {},
   "outputs": [
    {
     "name": "stdout",
     "output_type": "stream",
     "text": [
      "Enter the number: 7\n",
      "0   1   1   2   3   5   8   13   "
     ]
    }
   ],
   "source": [
    "def printtrib(n):\n",
    "    if(n<1):\n",
    "        return\n",
    "    first = 0\n",
    "    second = 1\n",
    "    third = first + second\n",
    "    \n",
    "    print(first, \" \", end = \" \")\n",
    "    print(second, \" \", end = \" \")\n",
    "    \n",
    "    if n==0:\n",
    "         print(first, \" \", end = \" \")\n",
    "        \n",
    "    if n==1:\n",
    "         print(second, \" \", end = \" \")\n",
    "    if n==2:\n",
    "        print(second, \" \", end = \" \")\n",
    "        \n",
    "    if n>2:\n",
    "        print(third, \" \", end = \" \")\n",
    "            \n",
    "    for i in range(0,n-2):\n",
    "        curr = second+third\n",
    "        first = second\n",
    "        second = third\n",
    "        third = curr\n",
    "        \n",
    "        print(curr, \" \", end = \" \")\n",
    "        \n",
    "n = int(input(\"Enter the number: \"))\n",
    "printtrib(n)"
   ]
  },
  {
   "cell_type": "markdown",
   "metadata": {},
   "source": [
    "4) Assuming that we have some email addresses in the &quot;username@companyname.com&quot; format,\n",
    "please write program to print the user name of a given email address. Both user names and\n",
    "company names are composed of letters only.\n",
    "Example:\n",
    "If the following email address is given as input to the program:\n",
    "john@google.com\n",
    "Then, the output of the program should be:\n",
    "john"
   ]
  },
  {
   "cell_type": "markdown",
   "metadata": {},
   "source": [
    "Ans 4)"
   ]
  },
  {
   "cell_type": "code",
   "execution_count": 54,
   "metadata": {},
   "outputs": [
    {
     "name": "stdout",
     "output_type": "stream",
     "text": [
      "Enter the email address: john@google.com\n",
      "Username is:  john\n"
     ]
    }
   ],
   "source": [
    "import re\n",
    "email = input(\"Enter the email address: \")\n",
    "pattern = email.split(\"@\")\n",
    "print(\"Username is: \",pattern[0])\n"
   ]
  },
  {
   "cell_type": "markdown",
   "metadata": {},
   "source": [
    "5) Define a class named Shape and its subclass Square. The Square class has an init function\n",
    "which takes a length as argument. Both classes have a area function which can print the area\n",
    "of the shape where Shape's area is 0 by default."
   ]
  },
  {
   "cell_type": "markdown",
   "metadata": {},
   "source": [
    "Ans 5)"
   ]
  },
  {
   "cell_type": "code",
   "execution_count": 60,
   "metadata": {},
   "outputs": [
    {
     "name": "stdout",
     "output_type": "stream",
     "text": [
      "25\n",
      "0\n"
     ]
    }
   ],
   "source": [
    "class Shape():\n",
    "    def __init__(self):\n",
    "        pass\n",
    "\n",
    "    def area(self):\n",
    "        return 0\n",
    "\n",
    "class Square(Shape):\n",
    "    def __init__(self,length = 0):\n",
    "        Shape.__init__(self)\n",
    "        self.length = length\n",
    "\n",
    "    def area(self):\n",
    "        return self.length*self.length\n",
    "\n",
    "Asqr = Square(5)\n",
    "print(Asqr.area())      # prints 25 as given argument\n",
    "\n",
    "print(Square().area())  # prints zero as default area\n",
    "    "
   ]
  },
  {
   "cell_type": "code",
   "execution_count": null,
   "metadata": {},
   "outputs": [],
   "source": []
  }
 ],
 "metadata": {
  "kernelspec": {
   "display_name": "Python 3",
   "language": "python",
   "name": "python3"
  },
  "language_info": {
   "codemirror_mode": {
    "name": "ipython",
    "version": 3
   },
   "file_extension": ".py",
   "mimetype": "text/x-python",
   "name": "python",
   "nbconvert_exporter": "python",
   "pygments_lexer": "ipython3",
   "version": "3.6.5"
  }
 },
 "nbformat": 4,
 "nbformat_minor": 2
}
