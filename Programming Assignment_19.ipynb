{
 "cells": [
  {
   "cell_type": "markdown",
   "metadata": {},
   "source": [
    "1)  Create a function that takes a string and returns a string in which each character is repeated\n",
    "once."
   ]
  },
  {
   "cell_type": "markdown",
   "metadata": {},
   "source": [
    "Ans 1)"
   ]
  },
  {
   "cell_type": "code",
   "execution_count": 1,
   "metadata": {},
   "outputs": [
    {
     "name": "stdout",
     "output_type": "stream",
     "text": [
      "Enter the string you want to double: string\n",
      "The string after doubling is:  ssttrriinngg\n"
     ]
    }
   ],
   "source": [
    "def doublestring(a):\n",
    "    output = ''\n",
    "    for i in a:\n",
    "        output = output + i + i\n",
    "        \n",
    "    return output\n",
    "        \n",
    "str = input(\"Enter the string you want to double: \")\n",
    "print(\"The string after doubling is: \", doublestring(str))\n",
    "\n"
   ]
  },
  {
   "cell_type": "markdown",
   "metadata": {},
   "source": [
    "2) Create a function that reverses a boolean value and returns the string \"boolean expected\"\n",
    "if another variable type is given."
   ]
  },
  {
   "cell_type": "markdown",
   "metadata": {},
   "source": [
    "Ans 2)"
   ]
  },
  {
   "cell_type": "code",
   "execution_count": 29,
   "metadata": {},
   "outputs": [
    {
     "name": "stdout",
     "output_type": "stream",
     "text": [
      "False\n",
      "True\n",
      "Boolean expected\n",
      "None\n",
      "Boolean expected\n",
      "None\n"
     ]
    }
   ],
   "source": [
    "def boolean(arg = None):\n",
    "    if type(arg) == bool:\n",
    "        return not arg\n",
    "    else:\n",
    "        print(\"Boolean expected\")\n",
    "\n",
    "\n",
    "#arg = input(\"Enter expression, if True or False\")\n",
    "print(boolean(True))\n",
    "print(boolean(False))\n",
    "print(boolean(0))\n",
    "print(boolean(\"alphabet\"))\n",
    "           \n",
    "        "
   ]
  },
  {
   "cell_type": "markdown",
   "metadata": {},
   "source": [
    "3) Create a function that returns the thickness (in meters) of a piece of paper after folding it n\n",
    "number of times. The paper starts off with a thickness of 0.5mm."
   ]
  },
  {
   "cell_type": "markdown",
   "metadata": {},
   "source": [
    "Ans 3)"
   ]
  },
  {
   "cell_type": "code",
   "execution_count": 43,
   "metadata": {},
   "outputs": [
    {
     "name": "stdout",
     "output_type": "stream",
     "text": [
      "Enter the number of layers: 3\n",
      "The thickness of the piece of paper is:  4e-06 meters\n"
     ]
    }
   ],
   "source": [
    "def thickness(n):\n",
    "    thick = 0.5 \n",
    "    for _ in range(n):\n",
    "        thick = thick * 2\n",
    "    \n",
    "    width = (thick/1000)\n",
    "    return width/1000\n",
    ": \n",
    "layers = int(input(\"Enter the number of layers: \"))\n",
    "print(\"The thickness of the piece of paper is: \",thickness(layers), \"meters\")"
   ]
  },
  {
   "cell_type": "markdown",
   "metadata": {},
   "source": [
    "4) Create a function that takes a single string as argument and returns an ordered list containing\n",
    "the indices of all capital letters in the string."
   ]
  },
  {
   "cell_type": "markdown",
   "metadata": {},
   "source": [
    "Ans 4) "
   ]
  },
  {
   "cell_type": "code",
   "execution_count": 45,
   "metadata": {},
   "outputs": [
    {
     "name": "stdout",
     "output_type": "stream",
     "text": [
      "Enter the string: This is a Wide Wide World\n",
      "The indices of capital alphabets are:  [0, 10, 15, 20]\n"
     ]
    }
   ],
   "source": [
    "def doops(string):\n",
    "    indices = []\n",
    "    for i in range(len(string)):\n",
    "        if string[i].isupper():\n",
    "            indices.append(i)\n",
    "    return indices\n",
    "\n",
    "str = input(\"Enter the string: \")\n",
    "\n",
    "print(\"The indices of capital alphabets are: \", doops(str))\n",
    "        "
   ]
  },
  {
   "cell_type": "markdown",
   "metadata": {},
   "source": [
    "5) Using list comprehensions, create a function that finds all even numbers from 1 to the given\n",
    "number."
   ]
  },
  {
   "cell_type": "markdown",
   "metadata": {},
   "source": [
    "Ans 5)"
   ]
  },
  {
   "cell_type": "code",
   "execution_count": 47,
   "metadata": {},
   "outputs": [
    {
     "name": "stdout",
     "output_type": "stream",
     "text": [
      "Enter the upper limit of numbers you want to find even numbers: 22\n",
      "Even numbers upto  22 are  [2, 4, 6, 8, 10, 12, 14, 16, 18, 20, 22]\n"
     ]
    }
   ],
   "source": [
    "def evennos(n):\n",
    "    evenno = [x for x in range(2,n+1) if x % 2 == 0]\n",
    "    return evenno\n",
    "\n",
    "limit = int(input(\"Enter the upper limit of numbers you want to find even numbers: \"))\n",
    "print(\"Even numbers upto \", limit, \"are \", evennos(limit) )"
   ]
  },
  {
   "cell_type": "code",
   "execution_count": null,
   "metadata": {},
   "outputs": [],
   "source": []
  }
 ],
 "metadata": {
  "kernelspec": {
   "display_name": "Python 3",
   "language": "python",
   "name": "python3"
  },
  "language_info": {
   "codemirror_mode": {
    "name": "ipython",
    "version": 3
   },
   "file_extension": ".py",
   "mimetype": "text/x-python",
   "name": "python",
   "nbconvert_exporter": "python",
   "pygments_lexer": "ipython3",
   "version": "3.6.5"
  }
 },
 "nbformat": 4,
 "nbformat_minor": 2
}
