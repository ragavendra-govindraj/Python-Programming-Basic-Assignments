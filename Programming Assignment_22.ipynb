{
 "cells": [
  {
   "cell_type": "markdown",
   "metadata": {},
   "source": [
    "1) Create a function that takes three parameters where:\n",
    " x is the start of the range (inclusive).\n",
    " y is the end of the range (inclusive).\n",
    " n is the divisor to be checked against.\n",
    "Return an ordered list with numbers in the range that are divisible by the third parameter n.\n",
    "Return an empty list if there are no numbers that are divisible by n."
   ]
  },
  {
   "cell_type": "markdown",
   "metadata": {},
   "source": [
    "Ans 1)"
   ]
  },
  {
   "cell_type": "code",
   "execution_count": 21,
   "metadata": {},
   "outputs": [
    {
     "name": "stdout",
     "output_type": "stream",
     "text": [
      "Enter the start limit: 1\n",
      "Enter the ending limit: 20\n",
      "Enter the divisor: 2\n",
      " The numbers that are divisible are: [2, 4, 6, 8, 10, 12, 14, 16, 18, 20]\n"
     ]
    }
   ],
   "source": [
    "def checker(x, y, n):\n",
    "    divisor = []\n",
    "    nondiv = []\n",
    "    \n",
    "    for i in range(x,y+1):\n",
    "        if i%n == 0:\n",
    "            divisor.append(i)\n",
    "            solution= divisor\n",
    "            \n",
    "    return solution\n",
    "    \n",
    "      \n",
    "    \n",
    "beg = int(input(\"Enter the start limit: \"))\n",
    "end = int(input(\"Enter the ending limit: \"))\n",
    "divisor = int(input(\"Enter the divisor: \"))\n",
    "\n",
    "print(\" The numbers that are divisible are:\", checker(beg, end, divisor))"
   ]
  },
  {
   "cell_type": "markdown",
   "metadata": {},
   "source": [
    "2) Create a function that takes in two lists and returns True if the second list follows the first list\n",
    "by one element, and False otherwise. In other words, determine if the second list is the first\n",
    "list shifted to the right by 1."
   ]
  },
  {
   "cell_type": "markdown",
   "metadata": {},
   "source": [
    "Ans 2) "
   ]
  },
  {
   "cell_type": "code",
   "execution_count": 25,
   "metadata": {},
   "outputs": [
    {
     "name": "stdout",
     "output_type": "stream",
     "text": [
      "Input the length of 1 st list: 5\n",
      "Input the length of 2 nd list: 5\n",
      "Let's input the 1st list, enter each number 1 by one: \n",
      "1\n",
      "2\n",
      "3\n",
      "4\n",
      "5\n",
      "Let's input the 2nd list, enter each number 1 by one: \n",
      "0\n",
      "1\n",
      "2\n",
      "3\n",
      "4\n"
     ]
    },
    {
     "data": {
      "text/plain": [
       "True"
      ]
     },
     "execution_count": 25,
     "metadata": {},
     "output_type": "execute_result"
    }
   ],
   "source": [
    "\n",
    "def orderchecker(l1,l2):\n",
    "     if l1[0:len(l1)-1] == l2[1:len(l2)]:\n",
    "            \n",
    "            return True\n",
    "\n",
    "\n",
    "\n",
    "list1 = []\n",
    "list2 = []\n",
    "n1 = int(input(\"Input the length of 1 st list: \"))\n",
    "n2 = int(input(\"Input the length of 2 nd list: \"))\n",
    "\n",
    "\n",
    "print(\"Let's input the 1st list, enter each number 1 by one: \")\n",
    "for i in range(n1):\n",
    "    ele1 = int(input())\n",
    "    list1.append(ele1)\n",
    "    \n",
    "print(\"Let's input the 2nd list, enter each number 1 by one: \")    \n",
    "\n",
    "for i in range(n2):\n",
    "    ele2 = int(input())\n",
    "    list2.append(ele2)\n",
    "\n",
    "orderchecker(list1,list2)        \n",
    "\n",
    "        \n",
    "        \n",
    "        \n",
    "    "
   ]
  },
  {
   "cell_type": "markdown",
   "metadata": {},
   "source": [
    "3) A group of friends have decided to start a secret society. The name will be the first letter of\n",
    "each of their names, sorted in alphabetical order.\n",
    "Create a function that takes in a list of names and returns the name of the secret society."
   ]
  },
  {
   "cell_type": "markdown",
   "metadata": {},
   "source": [
    "Ans 3)"
   ]
  },
  {
   "cell_type": "code",
   "execution_count": 28,
   "metadata": {},
   "outputs": [
    {
     "name": "stdout",
     "output_type": "stream",
     "text": [
      "Enter the number of freinds: 3\n",
      "Adam\n",
      "Kumar\n",
      "Gautam\n",
      "The name of the secret society is:  AGK\n"
     ]
    }
   ],
   "source": [
    "n = int(input(\"Enter the number of freinds: \"))\n",
    "namelist = []\n",
    "for i in range(n):\n",
    "    name = input()\n",
    "    namelist.append(name)\n",
    "    \n",
    "def nameofsoc(names):\n",
    "    for i in namelist:\n",
    "        return ''.join([i[0] for i in sorted(namelist)])\n",
    "    \n",
    "print(\"The name of the secret society is: \", nameofsoc(namelist))"
   ]
  },
  {
   "cell_type": "markdown",
   "metadata": {},
   "source": [
    "4) An isogram is a word that has no duplicate letters. Create a function that takes a string and\n",
    "returns either True or False depending on whether or not it&#39;s an &quot;isogram&quot;."
   ]
  },
  {
   "cell_type": "markdown",
   "metadata": {},
   "source": [
    "Ans 4) "
   ]
  },
  {
   "cell_type": "code",
   "execution_count": 32,
   "metadata": {},
   "outputs": [
    {
     "name": "stdout",
     "output_type": "stream",
     "text": [
      "Enter the string to check for isogram : wide wide world\n"
     ]
    },
    {
     "data": {
      "text/plain": [
       "False"
      ]
     },
     "execution_count": 32,
     "metadata": {},
     "output_type": "execute_result"
    }
   ],
   "source": [
    "\n",
    "\n",
    "def isisogram(str):\n",
    "    for i in range(len(str)):\n",
    "        \n",
    "        if str.lower().count(str[i])> 1:\n",
    "            \n",
    "        \n",
    "            return False\n",
    "    \n",
    "        else:\n",
    "            \n",
    "            return True\n",
    "    \n",
    "string = input(\"Enter the string to check for isogram : \")\n",
    "isisogram(string)"
   ]
  },
  {
   "cell_type": "markdown",
   "metadata": {},
   "source": [
    "5) Create a function that takes a string and returns True or False, depending on whether the\n",
    "characters are in order or not."
   ]
  },
  {
   "cell_type": "markdown",
   "metadata": {},
   "source": [
    "Ans 5)"
   ]
  },
  {
   "cell_type": "code",
   "execution_count": 34,
   "metadata": {},
   "outputs": [
    {
     "name": "stdout",
     "output_type": "stream",
     "text": [
      "Enter the string to check for order : asdf\n"
     ]
    },
    {
     "data": {
      "text/plain": [
       "False"
      ]
     },
     "execution_count": 34,
     "metadata": {},
     "output_type": "execute_result"
    }
   ],
   "source": [
    "def is_in_order(str):\n",
    "    n = len(str)\n",
    "    c = [str[i] for i in range(len(str))]\n",
    "    c.sort()\n",
    "    for i in range(n):\n",
    "        if c[i] != str[i]:\n",
    "            return False\n",
    "    return True\n",
    "string = input(\"Enter the string to check for order : \")\n",
    "is_in_order(string)"
   ]
  },
  {
   "cell_type": "code",
   "execution_count": null,
   "metadata": {},
   "outputs": [],
   "source": []
  }
 ],
 "metadata": {
  "kernelspec": {
   "display_name": "Python 3",
   "language": "python",
   "name": "python3"
  },
  "language_info": {
   "codemirror_mode": {
    "name": "ipython",
    "version": 3
   },
   "file_extension": ".py",
   "mimetype": "text/x-python",
   "name": "python",
   "nbconvert_exporter": "python",
   "pygments_lexer": "ipython3",
   "version": "3.6.5"
  }
 },
 "nbformat": 4,
 "nbformat_minor": 2
}
