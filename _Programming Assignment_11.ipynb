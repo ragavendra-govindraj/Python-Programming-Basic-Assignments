{
 "cells": [
  {
   "cell_type": "markdown",
   "metadata": {},
   "source": [
    "1) Write a Python program to find words which are greater than given length k?"
   ]
  },
  {
   "cell_type": "markdown",
   "metadata": {},
   "source": [
    "Ans 1)"
   ]
  },
  {
   "cell_type": "code",
   "execution_count": 3,
   "metadata": {},
   "outputs": [
    {
     "name": "stdout",
     "output_type": "stream",
     "text": [
      "Enter the string: Python programming assignment basics\n",
      "Enter threshhold size: 8\n",
      "['Python', 'programming', 'assignment', 'basics']\n",
      "All words which are greater than given length  8 are  ['programming', 'assignment']\n"
     ]
    }
   ],
   "source": [
    "mystr = input(\"Enter the string: \")\n",
    "k = int(input(\"Enter threshhold size: \"))\n",
    "largerstrings = []\n",
    "words=mystr.split(\" \")\n",
    "print (words)\n",
    "for word in words:\n",
    "       \n",
    "    if len(word)>k:\n",
    "              \n",
    "        \n",
    "        largerstrings.append(word)\n",
    "        \n",
    "print(\"All words which are greater than given length \", k, \"are \", largerstrings)"
   ]
  },
  {
   "cell_type": "markdown",
   "metadata": {},
   "source": [
    "2) Write a Python program for removing i-th character from a string?"
   ]
  },
  {
   "cell_type": "markdown",
   "metadata": {},
   "source": [
    "Ans 2)"
   ]
  },
  {
   "cell_type": "code",
   "execution_count": 13,
   "metadata": {},
   "outputs": [
    {
     "name": "stdout",
     "output_type": "stream",
     "text": [
      "ineurn\n"
     ]
    }
   ],
   "source": [
    "def remove(string, i):\n",
    "    \n",
    "    a = string[ : i]\n",
    "    b = string[i + 1 : ]\n",
    "    return a + b\n",
    "if __name__ == '__main__':\n",
    "    string = \"ineuron\"\n",
    "    i = 5\n",
    "    print(remove(string,i))\n"
   ]
  },
  {
   "cell_type": "markdown",
   "metadata": {},
   "source": [
    "3) Write a Python program to split and join a string?"
   ]
  },
  {
   "cell_type": "markdown",
   "metadata": {},
   "source": [
    "Ans) "
   ]
  },
  {
   "cell_type": "code",
   "execution_count": 14,
   "metadata": {},
   "outputs": [
    {
     "name": "stdout",
     "output_type": "stream",
     "text": [
      "['Ineuron', 'Assignment', '11']\n",
      "Ineuron-Assignment-11\n"
     ]
    }
   ],
   "source": [
    "def split_string(string):\n",
    "    list_string = string.split(' ')\n",
    "    return list_string\n",
    "\n",
    "def join_string(list_string):\n",
    "    string = '-'.join(list_string)\n",
    "    return string\n",
    "\n",
    "if __name__ == '__main__':\n",
    "    string = 'Ineuron Assignment 11'\n",
    "    \n",
    "list_string = split_string(string)\n",
    "new_string = join_string(list_string)\n",
    "\n",
    "print(list_string)\n",
    "print(new_string)\n",
    "    "
   ]
  },
  {
   "cell_type": "markdown",
   "metadata": {},
   "source": [
    "4) Write a Python to check if a given string is binary string or not?"
   ]
  },
  {
   "cell_type": "markdown",
   "metadata": {},
   "source": [
    "Ans 4)"
   ]
  },
  {
   "cell_type": "code",
   "execution_count": 19,
   "metadata": {},
   "outputs": [
    {
     "name": "stdout",
     "output_type": "stream",
     "text": [
      "Enter string: 0110\n",
      "Yes\n"
     ]
    }
   ],
   "source": [
    "def check(string):\n",
    "    p = set(string)\n",
    "    s = {'0','1'}\n",
    "    \n",
    "    if s == p or p == {'0'} or p == '1':\n",
    "        \n",
    "        print(\"Yes\")\n",
    "    \n",
    "    else:\n",
    "        \n",
    "        print(\"No\")\n",
    "    \n",
    "if __name__ == \"__main__\":\n",
    "    string = input(\"Enter string: \")\n",
    "    check(string)"
   ]
  },
  {
   "cell_type": "markdown",
   "metadata": {},
   "source": [
    "5) Write a Python program to find uncommon words from two Strings?"
   ]
  },
  {
   "cell_type": "markdown",
   "metadata": {},
   "source": [
    "Ans 5) "
   ]
  },
  {
   "cell_type": "code",
   "execution_count": 22,
   "metadata": {},
   "outputs": [
    {
     "name": "stdout",
     "output_type": "stream",
     "text": [
      "Enter 1st string: apple banana mango\n",
      "Enter 2nd string: apple honey oranges\n",
      " banana mango honey oranges\n"
     ]
    }
   ],
   "source": [
    "def uncommon(a,b):\n",
    "    list_a = a.split()\n",
    "    list_b = b.split()\n",
    "    uc = ''\n",
    "    \n",
    "    for i in list_a:\n",
    "        if i not in list_b:\n",
    "            uc = uc + \" \" + i\n",
    "            \n",
    "    for j in list_b:\n",
    "        if j not in list_a:\n",
    "            uc = uc + \" \" + j\n",
    "    \n",
    "    return uc\n",
    "\n",
    "a = input(\"Enter 1st string: \")\n",
    "b = input(\"Enter 2nd string: \")\n",
    "            \n",
    "print(uncommon(a,b))       \n",
    "            "
   ]
  },
  {
   "cell_type": "markdown",
   "metadata": {},
   "source": [
    "6) Write a Python to find all duplicate characters in string?"
   ]
  },
  {
   "cell_type": "markdown",
   "metadata": {},
   "source": [
    "Ans) "
   ]
  },
  {
   "cell_type": "code",
   "execution_count": 34,
   "metadata": {},
   "outputs": [
    {
     "name": "stdout",
     "output_type": "stream",
     "text": [
      "dict_keys(['T', 'i', 'm', 'e', 's', 'o', 'f', 'I', 'n', 'd', 'a'])\n"
     ]
    }
   ],
   "source": [
    "from collections import Counter\n",
    "def find_dup_char(input):\n",
    "    wc = Counter(input)\n",
    "    j = -1\n",
    "    \n",
    "    for i in wc.values():\n",
    "        \n",
    "        j = j+1\n",
    "        if(i>1):\n",
    "            \n",
    "            print (wc.keys())\n",
    "        \n",
    "if __name__ == '__main__':\n",
    "    input = \"TimesofIndia\"\n",
    "    find_dup_char(input)\n",
    "              \n",
    "              "
   ]
  },
  {
   "cell_type": "markdown",
   "metadata": {},
   "source": [
    "7) Write a Python Program to check if a string contains any special character?"
   ]
  },
  {
   "cell_type": "markdown",
   "metadata": {},
   "source": [
    "Ans 7)"
   ]
  },
  {
   "cell_type": "code",
   "execution_count": 47,
   "metadata": {},
   "outputs": [
    {
     "name": "stdout",
     "output_type": "stream",
     "text": [
      "String has special charecters\n"
     ]
    }
   ],
   "source": [
    "# Python3 program to check if a string\n",
    "# contains any special character\n",
    "  \n",
    "# import required package\n",
    "import re\n",
    "  \n",
    "# Function checks if the string\n",
    "# contains any special character\n",
    "def run(string):\n",
    "  \n",
    "    # Make own character set and pass \n",
    "    # this as argument in compile method\n",
    "    regex = re.compile('[@_!#$%^&*()<>?/\\|}{~:]')\n",
    "      \n",
    "    # Pass the string in search \n",
    "    # method of regex object.    \n",
    "    if(regex.search(string) == None):\n",
    "        print(\"String has no special charecters\")\n",
    "          \n",
    "    else:\n",
    "        print(\"String has special charecters\")\n",
    "      \n",
    "  \n",
    "# Driver Code\n",
    "if __name__ == '__main__' :\n",
    "      \n",
    "    # Enter the string\n",
    "    string = \"Geeks$For$Geeks\"\n",
    "      \n",
    "    # calling run function \n",
    "    run(string)\n",
    "\n"
   ]
  },
  {
   "cell_type": "code",
   "execution_count": null,
   "metadata": {},
   "outputs": [],
   "source": []
  }
 ],
 "metadata": {
  "kernelspec": {
   "display_name": "Python 3",
   "language": "python",
   "name": "python3"
  },
  "language_info": {
   "codemirror_mode": {
    "name": "ipython",
    "version": 3
   },
   "file_extension": ".py",
   "mimetype": "text/x-python",
   "name": "python",
   "nbconvert_exporter": "python",
   "pygments_lexer": "ipython3",
   "version": "3.6.5"
  }
 },
 "nbformat": 4,
 "nbformat_minor": 2
}
