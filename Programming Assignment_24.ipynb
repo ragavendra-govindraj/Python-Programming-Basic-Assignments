{
 "cells": [
  {
   "cell_type": "markdown",
   "metadata": {},
   "source": [
    "1) Create a function that takes an integer and returns a list from 1 to the given number, where:\n",
    "1. If the number can be divided evenly by 4, amplify it by 10 (i.e. return 10 times the\n",
    "number).\n",
    "2. If the number cannot be divided evenly by 4, simply return the number."
   ]
  },
  {
   "cell_type": "markdown",
   "metadata": {},
   "source": [
    "Ans1)"
   ]
  },
  {
   "cell_type": "code",
   "execution_count": 17,
   "metadata": {},
   "outputs": [
    {
     "name": "stdout",
     "output_type": "stream",
     "text": [
      "Enter the number you want the range upto: 10\n",
      "0\n",
      "1\n",
      "2\n",
      "3\n",
      "4\n",
      "5\n",
      "6\n",
      "7\n",
      "8\n",
      "9\n",
      "10\n",
      "The amplified output is:  [0, 1, 2, 3, 40, 5, 6, 7, 80, 9, 10]\n"
     ]
    }
   ],
   "source": [
    "n = int(input(\"Enter the number you want the range upto: \"))\n",
    "\n",
    "for i in range(n+1):\n",
    "    print(i)\n",
    "\n",
    "\n",
    "def amplifier(l):\n",
    "    listo=[]\n",
    "    for i in range(n+1):\n",
    "        if i%4 == 0:\n",
    "            listo.append(i*10)\n",
    "            \n",
    "        else:\n",
    "            listo.append(i)\n",
    "        \n",
    "       \n",
    "    return listo\n",
    "\n",
    "print(\"The amplified output is: \", amplifier(listo))\n"
   ]
  },
  {
   "cell_type": "markdown",
   "metadata": {},
   "source": [
    "2) Create a function that takes a list of numbers and return the number that's unique."
   ]
  },
  {
   "cell_type": "markdown",
   "metadata": {},
   "source": [
    "Ans 2)"
   ]
  },
  {
   "cell_type": "code",
   "execution_count": 32,
   "metadata": {},
   "outputs": [
    {
     "name": "stdout",
     "output_type": "stream",
     "text": [
      "Enter the size of the array: 5\n",
      "1\n",
      "1\n",
      "1\n",
      "1\n",
      "5\n",
      "The unique element is:  5\n"
     ]
    }
   ],
   "source": [
    "n = int(input(\"Enter the size of the array: \"))\n",
    "\n",
    "listo = []\n",
    "for i in range(n):\n",
    "    ele =  input()\n",
    "    listo.append(ele)\n",
    "    listo\n",
    "    \n",
    "def getunique(l):\n",
    "    unique = set(listo)\n",
    "    for i in unique:\n",
    "        if l.count(i)== 1:\n",
    "            return i\n",
    "                \n",
    "          \n",
    "\n",
    "print(\"The unique element is: \", getunique(listo))\n",
    "            "
   ]
  },
  {
   "cell_type": "markdown",
   "metadata": {},
   "source": [
    "3) Your task is to create a Circle constructor that creates a circle with a radius provided by an\n",
    "argument. The circles constructed must have two getters getArea() (PIr^2) and\n",
    "getPerimeter() (2PI*r) which give both respective areas and perimeter (circumference).\n",
    "\n",
    "For help with this class, I have provided you with a Rectangle constructor which you can use\n",
    "as a base example."
   ]
  },
  {
   "cell_type": "markdown",
   "metadata": {},
   "source": [
    "Ans 3)"
   ]
  },
  {
   "cell_type": "code",
   "execution_count": 47,
   "metadata": {},
   "outputs": [
    {
     "name": "stdout",
     "output_type": "stream",
     "text": [
      "Enter the radius of the circle: 1\n",
      "The area of the circle is:  3.14 \n",
      "The perimeter of the circle is:  6.28\n"
     ]
    }
   ],
   "source": [
    "import math\n",
    "def getarea(r):\n",
    "    \n",
    "    area = math.pi * r**2\n",
    "    return round(area,2)\n",
    "\n",
    "def getperi(r):\n",
    "    \n",
    "    perimeter = 2 * math.pi * r\n",
    "    return round(perimeter,2)\n",
    "\n",
    "radius = int(input(\"Enter the radius of the circle: \"))\n",
    "\n",
    "\n",
    "print(\"The area of the circle is: \", getarea(radius), \"\\nThe perimeter of the circle is: \", getperi(radius))"
   ]
  },
  {
   "cell_type": "markdown",
   "metadata": {},
   "source": [
    "4) Create a function that takes a list of strings and return a list, sorted from shortest to longest."
   ]
  },
  {
   "cell_type": "markdown",
   "metadata": {},
   "source": [
    "Ans 4) "
   ]
  },
  {
   "cell_type": "code",
   "execution_count": 50,
   "metadata": {},
   "outputs": [
    {
     "name": "stdout",
     "output_type": "stream",
     "text": [
      "Enter the size of the array: 3\n",
      "Rodney\n",
      "Varun\n",
      "Jon\n",
      "The sorted list is:  ['Jon', 'Varun', 'Rodney']\n"
     ]
    }
   ],
   "source": [
    "n = int(input(\"Enter the size of the array: \"))\n",
    "\n",
    "listo = []\n",
    "for i in range(n):\n",
    "    ele =  input()\n",
    "    listo.append(ele)\n",
    "    listo\n",
    "    \n",
    "def returnsorted(l):\n",
    "    return sorted(l, key = len)\n",
    "\n",
    "print(\"The sorted list is: \", returnsorted(listo))"
   ]
  },
  {
   "cell_type": "markdown",
   "metadata": {},
   "source": [
    "5) Create a function that validates whether three given integers form a Pythagorean triplet. The\n",
    "sum of the squares of the two smallest integers must equal the square of the largest number to\n",
    "be validated."
   ]
  },
  {
   "cell_type": "markdown",
   "metadata": {},
   "source": [
    "Ans 5)"
   ]
  },
  {
   "cell_type": "code",
   "execution_count": 58,
   "metadata": {},
   "outputs": [
    {
     "name": "stdout",
     "output_type": "stream",
     "text": [
      "Enter the numbers to form a triplet: \n",
      "9\n",
      "1\n",
      "2\n",
      "[1, 2, 9]\n",
      "The argument that the triplet is a pythagorean triplet is:  False\n"
     ]
    }
   ],
   "source": [
    "listo = []\n",
    "print(\"Enter the numbers to form a triplet: \")\n",
    "for i in range(3):\n",
    "    ele =  int(input())\n",
    "    listo.append(ele)\n",
    "    listo= sorted(listo)\n",
    "    \n",
    "print(listo)\n",
    "\n",
    "def pytho(l):\n",
    "    if l[0]**2 + l[1]**2 == l[2]**2:\n",
    "        flag = True\n",
    "        \n",
    "    else:\n",
    "        flag = False\n",
    "        \n",
    "    return flag\n",
    "\n",
    "print(\"The argument that the triplet is a pythagorean triplet is: \", pytho(listo))\n",
    "    "
   ]
  },
  {
   "cell_type": "code",
   "execution_count": null,
   "metadata": {},
   "outputs": [],
   "source": []
  }
 ],
 "metadata": {
  "kernelspec": {
   "display_name": "Python 3",
   "language": "python",
   "name": "python3"
  },
  "language_info": {
   "codemirror_mode": {
    "name": "ipython",
    "version": 3
   },
   "file_extension": ".py",
   "mimetype": "text/x-python",
   "name": "python",
   "nbconvert_exporter": "python",
   "pygments_lexer": "ipython3",
   "version": "3.6.5"
  }
 },
 "nbformat": 4,
 "nbformat_minor": 2
}
