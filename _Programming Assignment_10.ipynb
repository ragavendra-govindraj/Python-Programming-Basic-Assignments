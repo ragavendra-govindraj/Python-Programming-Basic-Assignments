{
 "cells": [
  {
   "cell_type": "markdown",
   "metadata": {},
   "source": [
    "1) Write a Python program to find sum of elements in list?"
   ]
  },
  {
   "cell_type": "markdown",
   "metadata": {},
   "source": [
    "Ans 1)"
   ]
  },
  {
   "cell_type": "code",
   "execution_count": 1,
   "metadata": {},
   "outputs": [
    {
     "name": "stdout",
     "output_type": "stream",
     "text": [
      " Total is:  15\n"
     ]
    }
   ],
   "source": [
    "total = 0\n",
    "ele = 0\n",
    "list1 = [1,2,3,4,5]\n",
    "\n",
    "while(ele < len(list1)):\n",
    "    total = total + list1[ele]\n",
    "    ele = ele+1\n",
    "    \n",
    "print(\" Total is: \", total)\n"
   ]
  },
  {
   "cell_type": "markdown",
   "metadata": {},
   "source": [
    "2) Write a Python program to Multiply all numbers in the list?"
   ]
  },
  {
   "cell_type": "markdown",
   "metadata": {},
   "source": [
    "Ans 2) "
   ]
  },
  {
   "cell_type": "code",
   "execution_count": 6,
   "metadata": {},
   "outputs": [
    {
     "name": "stdout",
     "output_type": "stream",
     "text": [
      "Product is:  6\n"
     ]
    }
   ],
   "source": [
    "def multiply(mylist):\n",
    "    result = 1\n",
    "    for x in mylist:\n",
    "        result = result*x\n",
    "    return result\n",
    "list1 = [1,2,3]\n",
    "\n",
    "print(\"Product is: \",multiply(list1))"
   ]
  },
  {
   "cell_type": "markdown",
   "metadata": {},
   "source": [
    "3) Write a Python program to find smallest number in a list?"
   ]
  },
  {
   "cell_type": "markdown",
   "metadata": {},
   "source": [
    "Ans)"
   ]
  },
  {
   "cell_type": "code",
   "execution_count": 10,
   "metadata": {},
   "outputs": [
    {
     "name": "stdout",
     "output_type": "stream",
     "text": [
      "Enter the number of elements: 5\n",
      "1\n",
      "2\n",
      "3\n",
      "4\n",
      "5\n",
      "The elements you entered are: [1, 2, 3, 4, 5]\n",
      "The minimum number is:  1\n"
     ]
    }
   ],
   "source": [
    "list = []\n",
    "n =  int(input(\"Enter the number of elements: \"))\n",
    "\n",
    "for i in range(0,n):\n",
    "    ele = int(input())\n",
    "    list.append(ele)\n",
    "print(\"The elements you entered are:\", list)\n",
    "print(\"The minimum number is: \",min(list))"
   ]
  },
  {
   "cell_type": "markdown",
   "metadata": {},
   "source": [
    "4) Write a Python program to find largest number in a list?"
   ]
  },
  {
   "cell_type": "markdown",
   "metadata": {},
   "source": [
    "Ans 4)"
   ]
  },
  {
   "cell_type": "code",
   "execution_count": 12,
   "metadata": {},
   "outputs": [
    {
     "name": "stdout",
     "output_type": "stream",
     "text": [
      "Enter the number of elements: 5\n",
      "1\n",
      "2\n",
      "3\n",
      "4\n",
      "5\n",
      "The elements you entered are: [1, 2, 3, 4, 5]\n",
      "The maximum number is:  5\n"
     ]
    }
   ],
   "source": [
    "list = []\n",
    "n =  int(input(\"Enter the number of elements: \"))\n",
    "\n",
    "for i in range(0,n):\n",
    "    ele = int(input())\n",
    "    list.append(ele)\n",
    "print(\"The elements you entered are:\", list)\n",
    "print(\"The maximum number is: \",max(list))"
   ]
  },
  {
   "cell_type": "markdown",
   "metadata": {},
   "source": [
    "5) Write a Python program to find second largest number in a list?"
   ]
  },
  {
   "cell_type": "markdown",
   "metadata": {},
   "source": [
    "Ans 5)"
   ]
  },
  {
   "cell_type": "code",
   "execution_count": 20,
   "metadata": {},
   "outputs": [
    {
     "name": "stdout",
     "output_type": "stream",
     "text": [
      "Enter the number of elements: 5\n",
      "1\n",
      "2\n",
      "3\n",
      "4\n",
      "5\n",
      "The elements you entered are: [1, 2, 3, 4, 5]\n",
      "4\n"
     ]
    }
   ],
   "source": [
    "list = []\n",
    "n =  int(input(\"Enter the number of elements: \"))\n",
    "\n",
    "for i in range(0,n):\n",
    "    ele = int(input())\n",
    "    list.append(ele)\n",
    "print(\"The elements you entered are:\", list)\n",
    "\n",
    "list.sort()\n",
    "print(list[-2])"
   ]
  },
  {
   "cell_type": "markdown",
   "metadata": {},
   "source": [
    "6) Write a Python program to find N largest elements from a list?"
   ]
  },
  {
   "cell_type": "markdown",
   "metadata": {},
   "source": [
    "Ans 6)"
   ]
  },
  {
   "cell_type": "code",
   "execution_count": 6,
   "metadata": {},
   "outputs": [
    {
     "name": "stdout",
     "output_type": "stream",
     "text": [
      "[85, 41]\n"
     ]
    }
   ],
   "source": [
    "\n",
    "# Python program to find N largest\n",
    "# element from given list of integers\n",
    "  \n",
    "# Function returns N largest elements\n",
    "def Nmaxelements(list1, N):\n",
    "    final_list = []\n",
    "  \n",
    "    for i in range(0, N): \n",
    "        max1 = 0\n",
    "          \n",
    "        for j in range(len(list1)):     \n",
    "            if list1[j] > max1:\n",
    "                max1 = list1[j];\n",
    "                  \n",
    "        list1.remove(max1);\n",
    "        final_list.append(max1)\n",
    "          \n",
    "    print(final_list)\n",
    "  \n",
    "# Driver code\n",
    "list1 = [2, 6, 41, 85, 0, 3, 7, 6, 10]\n",
    "N = 2\n",
    "  \n",
    "# Calling the function\n",
    "Nmaxelements(list1, N)"
   ]
  },
  {
   "cell_type": "markdown",
   "metadata": {},
   "source": [
    "7) Write a Python program to print even numbers in a list?"
   ]
  },
  {
   "cell_type": "markdown",
   "metadata": {},
   "source": [
    "Ans 7)"
   ]
  },
  {
   "cell_type": "code",
   "execution_count": 10,
   "metadata": {},
   "outputs": [
    {
     "name": "stdout",
     "output_type": "stream",
     "text": [
      "Enter the number of elements: 5\n",
      "1\n",
      "2\n",
      "3\n",
      "4\n",
      "5\n",
      "The elements you entered are: [1, 2, 3, 4, 5]\n",
      "Even number:  2 Even number:  4 "
     ]
    }
   ],
   "source": [
    "list = []\n",
    "n =  int(input(\"Enter the number of elements: \"))\n",
    "\n",
    "for i in range(0,n):\n",
    "    ele = int(input())\n",
    "    list.append(ele)\n",
    "print(\"The elements you entered are:\", list)\n",
    "\n",
    "for num in list:\n",
    "    if num % 2 == 0:\n",
    "        print(\"Even number: \", num, end = \" \")"
   ]
  },
  {
   "cell_type": "markdown",
   "metadata": {},
   "source": [
    "8) Write a Python program to print odd numbers in a List?"
   ]
  },
  {
   "cell_type": "markdown",
   "metadata": {},
   "source": [
    "Ans 8) "
   ]
  },
  {
   "cell_type": "code",
   "execution_count": 11,
   "metadata": {},
   "outputs": [
    {
     "name": "stdout",
     "output_type": "stream",
     "text": [
      "Enter the number of elements: 5\n",
      "1\n",
      "2\n",
      "3\n",
      "4\n",
      "5\n",
      "The elements you entered are: [1, 2, 3, 4, 5]\n",
      "Odd number:  1 Odd number:  3 Odd number:  5 "
     ]
    }
   ],
   "source": [
    "list = []\n",
    "n =  int(input(\"Enter the number of elements: \"))\n",
    "\n",
    "for i in range(0,n):\n",
    "    ele = int(input())\n",
    "    list.append(ele)\n",
    "print(\"The elements you entered are:\", list)\n",
    "\n",
    "for num in list:\n",
    "    if num % 2 != 0:\n",
    "        print(\"Odd number: \", num, end = \" \")"
   ]
  },
  {
   "cell_type": "markdown",
   "metadata": {},
   "source": [
    "9) Write a Python program to Remove empty List from List?"
   ]
  },
  {
   "cell_type": "markdown",
   "metadata": {},
   "source": [
    "Ans 9) "
   ]
  },
  {
   "cell_type": "code",
   "execution_count": 16,
   "metadata": {},
   "outputs": [
    {
     "name": "stdout",
     "output_type": "stream",
     "text": [
      " The original list is: [1, 2, [], 3, 4, [], 5]\n",
      "List after empty list removal is: [1, 2, 3, 4, 5]\n"
     ]
    }
   ],
   "source": [
    "list = [1,2,[],3,4,[],5]\n",
    "print(\" The original list is: \" + str(list))\n",
    "\n",
    "res = [ele for ele in list if ele !=[]]\n",
    "print(\"List after empty list removal is: \"+ str(res))\n",
    "\n",
    "\n"
   ]
  },
  {
   "cell_type": "markdown",
   "metadata": {},
   "source": [
    "10) Write a Python program to Cloning or Copying a list?"
   ]
  },
  {
   "cell_type": "markdown",
   "metadata": {},
   "source": [
    "Ans 10)"
   ]
  },
  {
   "cell_type": "code",
   "execution_count": 17,
   "metadata": {},
   "outputs": [
    {
     "name": "stdout",
     "output_type": "stream",
     "text": [
      "Original List: [4, 8, 2, 10, 15, 18]\n",
      "After Cloning: [4, 8, 2, 10, 15, 18]\n"
     ]
    }
   ],
   "source": [
    "def cloning(li1):\n",
    "    li_copy =li1[:]\n",
    "    return li_copy\n",
    "li1 = [4, 8, 2, 10, 15, 18]\n",
    "li2= cloning(li1)\n",
    "\n",
    "print(\"Original List:\", li1)\n",
    "print(\"After Cloning:\", li2)"
   ]
  },
  {
   "cell_type": "markdown",
   "metadata": {},
   "source": [
    "11) Write a Python program to Count occurrences of an element in a list?"
   ]
  },
  {
   "cell_type": "markdown",
   "metadata": {},
   "source": [
    "Ans 11)"
   ]
  },
  {
   "cell_type": "code",
   "execution_count": 18,
   "metadata": {},
   "outputs": [
    {
     "name": "stdout",
     "output_type": "stream",
     "text": [
      "Enter the number of elements: 5\n",
      "2\n",
      "3\n",
      "3\n",
      "2\n",
      "2\n",
      "The elements you entered are: [2, 3, 3, 2, 2]\n",
      "Input the element you want to count: 2\n",
      "2 has occured 3 times\n"
     ]
    }
   ],
   "source": [
    "list = []\n",
    "n =  int(input(\"Enter the number of elements: \"))\n",
    "for i in range(0,n):\n",
    "    ele = int(input())\n",
    "    list.append(ele)\n",
    "print(\"The elements you entered are:\", list)\n",
    "\n",
    "a =  int(input(\"Input the element you want to count: \"))\n",
    "\n",
    "def counta(list,a):\n",
    "    count = 0\n",
    "    for ele in list:\n",
    "        if(ele == a):\n",
    "            count = count + 1\n",
    "    return count\n",
    "print(\"{} has occured {} times\".format(a, counta(list,a)))"
   ]
  },
  {
   "cell_type": "code",
   "execution_count": null,
   "metadata": {},
   "outputs": [],
   "source": []
  }
 ],
 "metadata": {
  "kernelspec": {
   "display_name": "Python 3",
   "language": "python",
   "name": "python3"
  },
  "language_info": {
   "codemirror_mode": {
    "name": "ipython",
    "version": 3
   },
   "file_extension": ".py",
   "mimetype": "text/x-python",
   "name": "python",
   "nbconvert_exporter": "python",
   "pygments_lexer": "ipython3",
   "version": "3.6.5"
  }
 },
 "nbformat": 4,
 "nbformat_minor": 2
}
