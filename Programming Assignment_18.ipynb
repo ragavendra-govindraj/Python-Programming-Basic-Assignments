{
 "cells": [
  {
   "cell_type": "markdown",
   "metadata": {},
   "source": [
    "1) Create a function that takes a list of non-negative integers and strings and return a new list\n",
    "without the strings."
   ]
  },
  {
   "cell_type": "markdown",
   "metadata": {},
   "source": [
    "Ans 1)"
   ]
  },
  {
   "cell_type": "code",
   "execution_count": 37,
   "metadata": {
    "scrolled": true
   },
   "outputs": [
    {
     "name": "stdout",
     "output_type": "stream",
     "text": [
      "non negative integers from the list are:  [2, 3]\n"
     ]
    }
   ],
   "source": [
    "def retints(lst):\n",
    "    return[i for i in lst if type(i)==int and i>0 ]\n",
    "\n",
    "lst1 = ['a','b','c',2,3,-4]\n",
    "print(\"non negative integers from the list are: \", retints(lst1))\n",
    " \n"
   ]
  },
  {
   "cell_type": "markdown",
   "metadata": {},
   "source": [
    "2) The &quot;Reverser&quot; takes a string as input and returns that string in reverse order, with the\n",
    "opposite case."
   ]
  },
  {
   "cell_type": "markdown",
   "metadata": {},
   "source": [
    "Ans 2)"
   ]
  },
  {
   "cell_type": "code",
   "execution_count": 40,
   "metadata": {},
   "outputs": [
    {
     "name": "stdout",
     "output_type": "stream",
     "text": [
      "Enter a string of your choice: Hello workd\n",
      "String in reverse and swapped case is:  DKROW OLLEh\n"
     ]
    }
   ],
   "source": [
    "def revupper(string):\n",
    "    string = string[::-1]\n",
    "    string = string.swapcase()\n",
    "    \n",
    "    return string\n",
    "\n",
    "str = input(\"Enter a string of your choice: \")\n",
    "print(\"String in reverse and swapped case is: \", revupper(str))"
   ]
  },
  {
   "cell_type": "markdown",
   "metadata": {},
   "source": [
    "3) You can assign variables from lists like this:\n",
    "lst = [1, 2, 3, 4, 5, 6]\n",
    "first = lst[0]\n",
    "middle = lst[1:-1]\n",
    "last = lst[-1]\n",
    "print(first) ➞ outputs 1\n",
    "print(middle) ➞ outputs [2, 3, 4, 5]\n",
    "print(last) ➞ outputs 6\n",
    "With Python 3, you can assign variables from lists in a much more succinct way. Create\n",
    "variables first, middle and last from the given list using destructuring assignment\n",
    "(check the Resources tab for some examples), where:\n",
    "first ➞ 1\n",
    "middle ➞ [2, 3, 4, 5]\n",
    "last ➞ 6\n",
    "\n",
    "Your task is to unpack the list writeyourcodehere into three variables, being first,\n",
    "middle, and last, with middle being everything in between the first and last element. Then\n",
    "print all three variables."
   ]
  },
  {
   "cell_type": "markdown",
   "metadata": {},
   "source": [
    "Ans 3)"
   ]
  },
  {
   "cell_type": "code",
   "execution_count": 41,
   "metadata": {},
   "outputs": [
    {
     "data": {
      "text/plain": [
       "[2, 3, 4, 5]"
      ]
     },
     "execution_count": 41,
     "metadata": {},
     "output_type": "execute_result"
    }
   ],
   "source": [
    "lst = [1,2,3,4,5,6]\n",
    "first, *middle, last = lst\n",
    "middle"
   ]
  },
  {
   "cell_type": "code",
   "execution_count": 42,
   "metadata": {},
   "outputs": [
    {
     "data": {
      "text/plain": [
       "1"
      ]
     },
     "execution_count": 42,
     "metadata": {},
     "output_type": "execute_result"
    }
   ],
   "source": [
    "first"
   ]
  },
  {
   "cell_type": "code",
   "execution_count": 43,
   "metadata": {},
   "outputs": [
    {
     "data": {
      "text/plain": [
       "6"
      ]
     },
     "execution_count": 43,
     "metadata": {},
     "output_type": "execute_result"
    }
   ],
   "source": [
    "last"
   ]
  },
  {
   "cell_type": "markdown",
   "metadata": {},
   "source": [
    "4) Write a function that calculates the factorial of a number recursively."
   ]
  },
  {
   "cell_type": "markdown",
   "metadata": {},
   "source": [
    "Ans 4)"
   ]
  },
  {
   "cell_type": "code",
   "execution_count": 50,
   "metadata": {},
   "outputs": [
    {
     "name": "stdout",
     "output_type": "stream",
     "text": [
      "Enter the number you want to find factoial for: 5\n",
      "The factorial of:  5  is:  120\n"
     ]
    }
   ],
   "source": [
    "def fac(n):\n",
    "    result=1\n",
    "    if n == 1 or n == 0:\n",
    "        result = 1\n",
    "    elif n>=2:\n",
    "        \n",
    "        for i in range(2,n+1):\n",
    "            result = result *i\n",
    "        return result\n",
    "        \n",
    "num = int(input(\"Enter the number you want to find factoial for: \"))\n",
    "\n",
    "print(\"The factorial of: \",num,\" is: \", fac(num))\n",
    "        "
   ]
  },
  {
   "cell_type": "markdown",
   "metadata": {},
   "source": [
    "5) Write a function that moves all elements of one type to the end of the list."
   ]
  },
  {
   "cell_type": "markdown",
   "metadata": {},
   "source": [
    "Ans 5)"
   ]
  },
  {
   "cell_type": "code",
   "execution_count": 56,
   "metadata": {},
   "outputs": [
    {
     "name": "stdout",
     "output_type": "stream",
     "text": [
      "Enter the length of the array: 5\n",
      "1\n",
      "2\n",
      "3\n",
      "3\n",
      "3\n",
      "[1, 2, 4, 4, 5, 6, 1, 2, 3, 3, 3, 1, 2, 3, 3, 3]\n",
      "Enter the number you want to be moved: 3\n",
      "3\n",
      "Array after rearrangement is:  [1, 2, 4, 4, 5, 6, 1, 2, 2, 1, 3, 3, 3, 3, 3, 3]\n"
     ]
    }
   ],
   "source": [
    "def move_to_end(array, tomove):\n",
    "    i = 0\n",
    "    j = len(array) - 1\n",
    "    \n",
    "    while(i<j):\n",
    "        while(i<j and array[j] == tomove):\n",
    "            j = j-1\n",
    "            \n",
    "        if(array[i]==tomove):\n",
    "            array[i], array[j] = array[j], array[i]\n",
    "        i = i+1\n",
    "        \n",
    "    return array\n",
    "\n",
    "n = int(input(\"Enter the length of the array: \"))\n",
    "\n",
    "les = []\n",
    "for k in range(0,n):\n",
    "    ele = int(input())\n",
    "    lst.append(ele)\n",
    "    \n",
    "print(lst)\n",
    "\n",
    "moving = int(input(\"Enter the number you want to be moved: \"))\n",
    "\n",
    "print(moving)\n",
    "\n",
    "print(\"Array after rearrangement is: \", move_to_end(lst,moving))\n",
    "             \n",
    "             \n",
    "    \n",
    "    "
   ]
  },
  {
   "cell_type": "code",
   "execution_count": null,
   "metadata": {},
   "outputs": [],
   "source": []
  }
 ],
 "metadata": {
  "kernelspec": {
   "display_name": "Python 3",
   "language": "python",
   "name": "python3"
  },
  "language_info": {
   "codemirror_mode": {
    "name": "ipython",
    "version": 3
   },
   "file_extension": ".py",
   "mimetype": "text/x-python",
   "name": "python",
   "nbconvert_exporter": "python",
   "pygments_lexer": "ipython3",
   "version": "3.6.5"
  }
 },
 "nbformat": 4,
 "nbformat_minor": 2
}
