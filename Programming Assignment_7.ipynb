{
 "cells": [
  {
   "cell_type": "markdown",
   "metadata": {},
   "source": [
    "1) Write a Python Program to find sum of array?\n"
   ]
  },
  {
   "cell_type": "markdown",
   "metadata": {},
   "source": [
    "Ans 1)"
   ]
  },
  {
   "cell_type": "code",
   "execution_count": 16,
   "metadata": {},
   "outputs": [
    {
     "name": "stdout",
     "output_type": "stream",
     "text": [
      "Sum of all the elements of an array:  15\n"
     ]
    }
   ],
   "source": [
    "arr = [1,2,3,4,5]\n",
    "sum = 0\n",
    "for i in range (0, len(arr)):\n",
    "    sum =  sum + arr[i]\n",
    "    \n",
    "print(\"Sum of all the elements of an array: \", sum);  \n"
   ]
  },
  {
   "cell_type": "markdown",
   "metadata": {},
   "source": [
    "2) Write a Python Program to find largest element in an array?"
   ]
  },
  {
   "cell_type": "markdown",
   "metadata": {},
   "source": [
    "Ans 2) "
   ]
  },
  {
   "cell_type": "code",
   "execution_count": 28,
   "metadata": {},
   "outputs": [
    {
     "name": "stdout",
     "output_type": "stream",
     "text": [
      "Enter length of array: 5\n",
      "1\n",
      "2\n",
      "3\n",
      "4\n",
      "5\n",
      "[1, 2, 3, 4, 5]\n",
      "Largest element is: 5\n"
     ]
    }
   ],
   "source": [
    "array = []\n",
    "n= int(input(\"Enter length of array: \"))\n",
    "\n",
    "for i in range(0,n):\n",
    "    element = int(input())\n",
    "    array.append(element)\n",
    "print(array)\n",
    "max = array[0]    \n",
    "for i in range(1,n):\n",
    "    \n",
    "    if array[i] > max:\n",
    "        max = array[i]\n",
    "print(\"Largest element is:\", max)        "
   ]
  },
  {
   "cell_type": "markdown",
   "metadata": {},
   "source": [
    "3) Write a Python Program for array rotation?"
   ]
  },
  {
   "cell_type": "markdown",
   "metadata": {},
   "source": [
    "Ans 3) "
   ]
  },
  {
   "cell_type": "code",
   "execution_count": 30,
   "metadata": {},
   "outputs": [
    {
     "name": "stdout",
     "output_type": "stream",
     "text": [
      "Array after left rotation is:  [3, 4, 5, 6, 7, 1, 2]\n"
     ]
    }
   ],
   "source": [
    "def rotatearray(arr, n,  d):\n",
    "    temp = []\n",
    "    i =0\n",
    "    while(i<d):\n",
    "        temp.append(arr[i])\n",
    "        i =  i+1\n",
    "    i = 0\n",
    "    while(d<n):\n",
    "        arr[i] = arr[d]\n",
    "        i = i+1\n",
    "        d = d+1\n",
    "    arr[:] = arr[: i] + temp\n",
    "    return arr    \n",
    "\n",
    "arr = [1, 2, 3, 4, 5, 6, 7]\n",
    "print(\"Array after left rotation is: \", end=' ')\n",
    "print(rotatearray(arr, len(arr), 2))"
   ]
  },
  {
   "cell_type": "markdown",
   "metadata": {},
   "source": [
    "4) Write a Python Program to Split the array and add the first part to the end?"
   ]
  },
  {
   "cell_type": "markdown",
   "metadata": {},
   "source": [
    "Ans 4)"
   ]
  },
  {
   "cell_type": "code",
   "execution_count": 34,
   "metadata": {},
   "outputs": [
    {
     "name": "stdout",
     "output_type": "stream",
     "text": [
      "5 6 52 36 12 10 "
     ]
    }
   ],
   "source": [
    "def splitarr(arr,n,k):\n",
    "    for i in range(0,k):\n",
    "        x = arr[0]\n",
    "        for j in range(0, n-1):\n",
    "            arr[j] = arr[j+1]\n",
    "        arr[n-1] = x\n",
    "        \n",
    "arr = [12, 10, 5, 6, 52, 36]\n",
    "n = len(arr)\n",
    "position = 2\n",
    "splitarr(arr,n,position)\n",
    "\n",
    "for i in range(0,n):\n",
    "    print(arr[i], end = ' ')"
   ]
  },
  {
   "cell_type": "markdown",
   "metadata": {},
   "source": [
    "5) Write a Python Program to check if given array is Monotonic?"
   ]
  },
  {
   "cell_type": "markdown",
   "metadata": {},
   "source": [
    "Ans 5) "
   ]
  },
  {
   "cell_type": "code",
   "execution_count": 40,
   "metadata": {},
   "outputs": [
    {
     "name": "stdout",
     "output_type": "stream",
     "text": [
      "True\n"
     ]
    }
   ],
   "source": [
    "def ismonotonic(a):\n",
    "     return (all(a[i] <= a[i + 1] for i in range(len(a) - 1)) or\n",
    "            all(a[i] >= a[i + 1] for i in range(len(a) - 1)))\n",
    "a= [1,2,3,4]\n",
    "print(ismonotonic(a))\n"
   ]
  },
  {
   "cell_type": "code",
   "execution_count": null,
   "metadata": {},
   "outputs": [],
   "source": []
  }
 ],
 "metadata": {
  "kernelspec": {
   "display_name": "Python 3",
   "language": "python",
   "name": "python3"
  },
  "language_info": {
   "codemirror_mode": {
    "name": "ipython",
    "version": 3
   },
   "file_extension": ".py",
   "mimetype": "text/x-python",
   "name": "python",
   "nbconvert_exporter": "python",
   "pygments_lexer": "ipython3",
   "version": "3.6.5"
  }
 },
 "nbformat": 4,
 "nbformat_minor": 2
}
