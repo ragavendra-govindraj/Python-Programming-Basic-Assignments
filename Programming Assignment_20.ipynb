{
 "cells": [
  {
   "cell_type": "markdown",
   "metadata": {},
   "source": [
    "1) Create a function that takes a list of strings and integers, and filters out the list so that it\n",
    "returns a list of integers only."
   ]
  },
  {
   "cell_type": "markdown",
   "metadata": {},
   "source": [
    "Ans 1)"
   ]
  },
  {
   "cell_type": "code",
   "execution_count": 3,
   "metadata": {},
   "outputs": [
    {
     "name": "stdout",
     "output_type": "stream",
     "text": [
      "The filtered list is:  [1, 2, 3, 4]\n"
     ]
    }
   ],
   "source": [
    "lst = [1,2,3,4,\"a\", \"b\", \"c\"]\n",
    "\n",
    "def filter_list(lst):\n",
    "    intlist= []\n",
    "    for i in lst:\n",
    "        if type(i) == int:\n",
    "            \n",
    "            intlist.append(i)\n",
    "            \n",
    "    return intlist\n",
    "print(\"The filtered list is: \", filter_list(lst))"
   ]
  },
  {
   "cell_type": "markdown",
   "metadata": {},
   "source": [
    "2) Given a list of numbers, create a function which returns the list but with each element&#39;s\n",
    "index in the list added to itself. This means you add 0 to the number at index 0, add 1 to the\n",
    "number at index 1, etc..."
   ]
  },
  {
   "cell_type": "markdown",
   "metadata": {},
   "source": [
    "Ans 2) \n"
   ]
  },
  {
   "cell_type": "code",
   "execution_count": 7,
   "metadata": {},
   "outputs": [
    {
     "name": "stdout",
     "output_type": "stream",
     "text": [
      "Enter the length of the array yu want to enter5\n",
      "1\n",
      "3\n",
      "2\n",
      "4\n",
      "5\n",
      "[1, 3, 2, 4, 5]\n",
      "The array after operations one is:  [1, 4, 4, 7, 9]\n"
     ]
    }
   ],
   "source": [
    "def addindex(lst):\n",
    "    ind = 0\n",
    "    index = []\n",
    "    \n",
    "    for i in lst:\n",
    "        index.append(lst.index(i, ind) + i)\n",
    "        ind = ind +1\n",
    "    return index\n",
    "\n",
    "\n",
    "len = int(input(\"Enter the length of the array yu want to enter\"))\n",
    "listo = []\n",
    "for j in range(0,len):\n",
    "    ele = int(input())\n",
    "    \n",
    "    listo.append(ele)\n",
    "print(listo)\n",
    "    \n",
    "    \n",
    "print(\"The array after operations one is: \",addindex(listo))\n",
    "        \n",
    "        "
   ]
  },
  {
   "cell_type": "markdown",
   "metadata": {},
   "source": [
    "3) Create a function that takes the height and radius of a cone as arguments and returns the\n",
    "volume of the cone rounded to the nearest hundredth. See the resources tab for the formula."
   ]
  },
  {
   "cell_type": "markdown",
   "metadata": {},
   "source": [
    "Ans 3)"
   ]
  },
  {
   "cell_type": "code",
   "execution_count": 11,
   "metadata": {},
   "outputs": [
    {
     "name": "stdout",
     "output_type": "stream",
     "text": [
      "Enter the radius of cone: 1\n",
      "Enter the height of cone: 2\n",
      "The volume of the cone is:  2.1\n"
     ]
    }
   ],
   "source": [
    "def volume(radius,height):\n",
    "    vol = (1/3) * (22/7) * (radius * radius) * (height)\n",
    "    vol = round(vol,2)\n",
    "    return vol\n",
    "\n",
    "r = int(input(\"Enter the radius of cone: \"))\n",
    "h = int(input(\"Enter the height of cone: \"))\n",
    "\n",
    "print(\"The volume of the cone is: \", volume(r,h))\n"
   ]
  },
  {
   "cell_type": "markdown",
   "metadata": {},
   "source": [
    "4) This Triangular Number Sequence is generated from a pattern of dots that form a triangle.\n",
    "The first 5 numbers of the sequence, or dots, are:"
   ]
  },
  {
   "cell_type": "markdown",
   "metadata": {},
   "source": [
    "Ans 4)"
   ]
  },
  {
   "cell_type": "code",
   "execution_count": 15,
   "metadata": {},
   "outputs": [
    {
     "name": "stdout",
     "output_type": "stream",
     "text": [
      "Enter the sequence of the triangle: 3\n",
      "The  3 th  triangle has :  6.0  dots\n"
     ]
    }
   ],
   "source": [
    "def triangle(n):\n",
    "    dots = n * (n+1) * 0.5\n",
    "    dots = round(dots,1)\n",
    "    return dots\n",
    "\n",
    "number = int(input(\"Enter the sequence of the triangle: \"))\n",
    "print(\"The \", number, \"th \",\"triangle has : \", triangle(number), \" dots\")"
   ]
  },
  {
   "cell_type": "markdown",
   "metadata": {},
   "source": [
    "5) Create a function that takes a list of numbers between 1 and 10 (excluding one number) and\n",
    "returns the missing number."
   ]
  },
  {
   "cell_type": "markdown",
   "metadata": {},
   "source": [
    "Ans 5)"
   ]
  },
  {
   "cell_type": "code",
   "execution_count": 21,
   "metadata": {},
   "outputs": [
    {
     "name": "stdout",
     "output_type": "stream",
     "text": [
      "Enter the length of the array you want to enter5\n",
      "1\n",
      "2\n",
      "4\n",
      "5\n",
      "6\n",
      "[1, 2, 4, 5, 6]\n",
      "The missing numbers in above list are:  [3]\n"
     ]
    }
   ],
   "source": [
    "def missingnos(lst):\n",
    "    return [i for i in range (lst[0], (lst[-1])+1 ) if i not in lst]\n",
    "\n",
    "len = int(input(\"Enter the length of the array you want to enter\"))\n",
    "listo = []\n",
    "for j in range(0,len):\n",
    "    ele = int(input())\n",
    "    \n",
    "    listo.append(ele)\n",
    "print(listo)\n",
    "\n",
    "print(\"The missing numbers in above list are: \", missingnos(listo))"
   ]
  },
  {
   "cell_type": "code",
   "execution_count": null,
   "metadata": {},
   "outputs": [],
   "source": []
  }
 ],
 "metadata": {
  "kernelspec": {
   "display_name": "Python 3",
   "language": "python",
   "name": "python3"
  },
  "language_info": {
   "codemirror_mode": {
    "name": "ipython",
    "version": 3
   },
   "file_extension": ".py",
   "mimetype": "text/x-python",
   "name": "python",
   "nbconvert_exporter": "python",
   "pygments_lexer": "ipython3",
   "version": "3.6.5"
  }
 },
 "nbformat": 4,
 "nbformat_minor": 2
}
